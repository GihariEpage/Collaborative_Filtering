{
  "nbformat": 4,
  "nbformat_minor": 0,
  "metadata": {
    "colab": {
      "name": "Collaborative filtering using matrix factorization.ipynb",
      "provenance": [],
      "collapsed_sections": []
    },
    "kernelspec": {
      "name": "python3",
      "display_name": "Python 3"
    },
    "language_info": {
      "name": "python"
    }
  },
  "cells": [
    {
      "cell_type": "markdown",
      "metadata": {
        "id": "iCNnM0BPttsC"
      },
      "source": [
        "## **Collaborative filtering using matrix factorization**\n"
      ]
    },
    {
      "cell_type": "code",
      "metadata": {
        "id": "x229ITIktrWj"
      },
      "source": [
        "import numpy as np\n",
        "#collection of rating data\n",
        "ratings = np.array(\n",
        "    [\n",
        "        [3.0, 3.0, 2.0, 3.0, 3.0, 3.0],\n",
        "        [4.0, 1.0, 1.0, 4.0, 5.0, 3.0],\n",
        "        [1.0, 2.0, 2.0, 1.0, 1.0, 2.0],\n",
        "        [3.0, 2.0, 1.0, 3.0, 4.0, 3.0],\n",
        "        [1.0, 5.0, 3.0, 1.0, 1.0, 3.0],\n",
        "        [2.0, 5.0, 3.0, 2.0, 3.0, 4.0],\n",
        "        [2.0, 2.0, 1.0, 2.0, 2.0, 2.0],\n",
        "        [1.0, 4.0, 3.0, 1.0, 2.0, 3.0],\n",
        "    ]\n",
        ")"
      ],
      "execution_count": 21,
      "outputs": []
    },
    {
      "cell_type": "code",
      "metadata": {
        "id": "UtO64eLZVhU-"
      },
      "source": [
        "import tensorflow.compat.v1 as tf\n",
        "\n",
        "tf.disable_v2_behavior()\n",
        "K = 2 #latent variable\n",
        "R = ratings"
      ],
      "execution_count": 22,
      "outputs": []
    },
    {
      "cell_type": "code",
      "metadata": {
        "id": "DNxv9dERVlHt"
      },
      "source": [
        "N = len(ratings)\n",
        "M = len(ratings[0])\n",
        "P = np.random.rand(N, K)\n",
        "Q = np.random.rand(M, K)\n",
        "ratings = tf.placeholder(tf.float32, name=\"ratings\")\n",
        "P_matrix = tf.Variable(P, dtype=tf.float32)\n",
        "Q_matrix = tf.Variable(Q, dtype=tf.float32)\n",
        "P_times_Q = tf.matmul(P_matrix, Q_matrix, transpose_b=True)\n",
        "squared_error = tf.square(P_times_Q - ratings)\n",
        "loss = tf.reduce_sum(squared_error)"
      ],
      "execution_count": 23,
      "outputs": []
    },
    {
      "cell_type": "code",
      "metadata": {
        "id": "pagQL0n6Vrne"
      },
      "source": [
        "# gradient descent optimizer\n",
        "optimizer = tf.train.GradientDescentOptimizer(0.01)\n",
        "train = optimizer.minimize(loss)"
      ],
      "execution_count": 24,
      "outputs": []
    },
    {
      "cell_type": "code",
      "metadata": {
        "id": "lF9CRNwcVz7-"
      },
      "source": [
        "#Train the model to calculate the P and Q matrices.\n",
        "sess = tf.Session()\n",
        "init = tf.global_variables_initializer()\n",
        "sess.run(init)\n",
        "for i in range(5000):\n",
        "    sess.run(train, {ratings: R})"
      ],
      "execution_count": 25,
      "outputs": []
    },
    {
      "cell_type": "code",
      "metadata": {
        "colab": {
          "base_uri": "https://localhost:8080/"
        },
        "id": "6tHYolC5V1-E",
        "outputId": "f9b8fa99-e6ab-41f6-8976-2e843555228f"
      },
      "source": [
        "final_P_times_Q = np.around(sess.run(P_times_Q), 3)\n",
        "print(final_P_times_Q)\n",
        "print()\n",
        "final_P_matrix = np.around(sess.run(P_matrix), 3)\n",
        "print(final_P_matrix)\n",
        "print()\n",
        "final_Q_matrix = np.transpose(np.around(sess.run(Q_matrix), 3))\n",
        "print(final_Q_matrix)\n",
        "print()"
      ],
      "execution_count": 26,
      "outputs": [
        {
          "output_type": "stream",
          "text": [
            "[[2.721 2.93  1.932 2.721 3.375 3.185]\n",
            " [4.056 1.135 0.787 4.056 4.902 3.014]\n",
            " [0.93  2.376 1.55  0.93  1.208 1.826]\n",
            " [3.136 1.898 1.269 3.136 3.83  2.877]\n",
            " [0.846 4.844 3.146 0.846 1.206 3.099]\n",
            " [2.157 4.917 3.211 2.157 2.778 3.916]\n",
            " [1.826 1.825 1.205 1.826 2.258 2.061]\n",
            " [1.226 4.198 2.733 1.226 1.635 2.979]]\n",
            "\n",
            "[[ 1.287  1.081]\n",
            " [ 2.274  0.284]\n",
            " [ 0.289  0.934]\n",
            " [ 1.646  0.639]\n",
            " [-0.032  1.951]\n",
            " [ 0.735  1.923]\n",
            " [ 0.879  0.667]\n",
            " [ 0.263  1.669]]\n",
            "\n",
            "[[1.726 0.188 0.144 1.726 2.074 1.125]\n",
            " [0.462 2.486 1.615 0.462 0.652 1.607]]\n",
            "\n"
          ],
          "name": "stdout"
        }
      ]
    },
    {
      "cell_type": "markdown",
      "metadata": {
        "id": "2vGGoIxr3BAq"
      },
      "source": [
        "**prediction**"
      ]
    },
    {
      "cell_type": "code",
      "metadata": {
        "id": "JFA1gc-0V8Ma"
      },
      "source": [
        "# new user data\n",
        "# user has given the 1st, 2nd, 4th, and 6th products the ratings 2, 2, 1, and 2, respectively\n",
        "#need to predict the remainig ratings\n",
        "new_user_indices = [1, 2, 4, 5]\n",
        "new_user_ratings = [2, 2, 1, 2]"
      ],
      "execution_count": 27,
      "outputs": []
    },
    {
      "cell_type": "code",
      "metadata": {
        "id": "FtLQcLP_V9on"
      },
      "source": [
        "new_user_P_row_initial = np.random.rand(1, K)\n",
        "new_user_P_row = tf.Variable(new_user_P_row_initial, dtype=tf.float32)\n",
        "new_user_P_row_times_Q = tf.matmul(new_user_P_row, final_Q_matrix)\n",
        "res = tf.gather(new_user_P_row_times_Q, new_user_indices, axis=1)\n",
        "squared_error = tf.square(new_user_ratings - res)\n",
        "loss = tf.reduce_sum(squared_error)\n",
        "optimizer = tf.train.GradientDescentOptimizer(0.01)\n",
        "predict = optimizer.minimize(loss)"
      ],
      "execution_count": 28,
      "outputs": []
    },
    {
      "cell_type": "code",
      "metadata": {
        "id": "aT7SIEtzWBa7"
      },
      "source": [
        "sess = tf.Session()\n",
        "init = tf.global_variables_initializer()\n",
        "sess.run(init)\n",
        "for i in range(50000):\n",
        "    sess.run(predict)"
      ],
      "execution_count": 29,
      "outputs": []
    },
    {
      "cell_type": "code",
      "metadata": {
        "colab": {
          "base_uri": "https://localhost:8080/"
        },
        "id": "LWZGvnqMWHFT",
        "outputId": "76719c77-a240-43bf-9371-7205d06bcf69"
      },
      "source": [
        "final_new_user_P_row_times_Q = np.around(sess.run(new_user_P_row_times_Q), 3)\n",
        "print(np.round(final_new_user_P_row_times_Q))"
      ],
      "execution_count": 30,
      "outputs": [
        {
          "output_type": "stream",
          "text": [
            "[[1. 2. 2. 1. 1. 2.]]\n"
          ],
          "name": "stdout"
        }
      ]
    }
  ]
}